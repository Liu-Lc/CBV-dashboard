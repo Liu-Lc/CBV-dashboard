{
 "metadata": {
  "language_info": {
   "codemirror_mode": {
    "name": "ipython",
    "version": 3
   },
   "file_extension": ".py",
   "mimetype": "text/x-python",
   "name": "python",
   "nbconvert_exporter": "python",
   "pygments_lexer": "ipython3",
   "version": 3
  },
  "orig_nbformat": 4
 },
 "nbformat": 4,
 "nbformat_minor": 2,
 "cells": [
  {
   "cell_type": "code",
   "execution_count": null,
   "metadata": {},
   "outputs": [],
   "source": [
    "import mysql.connector\n",
    "from mysql.connector.constants import ClientFlag\n",
    "import otros.keys\n",
    "\n",
    "config = {\n",
    "    'user': 'client',\n",
    "    'password': '',\n",
    "    'host': '',\n",
    "    'ssl_ca': 'otros/server-ca.pem',\n",
    "    'ssl_cert': 'otros/client-cert.pem',\n",
    "    'ssl_key': 'otros/client-key.pem'\n",
    "}\n",
    "\n",
    "# now we establish our connection\n",
    "conn = mysql.connector.connect(**config)"
   ]
  }
 ]
}